{
 "cells": [
  {
   "cell_type": "markdown",
   "metadata": {},
   "source": [
    "## Abacat tutorial\n",
    "\n",
    "\n",
    "### Getting started\n",
    "Using Abacat is quite straightforward, and you will find that it can be used inline (like in this tutorial) and also in the command line.\n",
    "\n",
    "Abacat's main class is the `Genome` class, which will hold most of your data."
   ]
  },
  {
   "cell_type": "code",
   "execution_count": 1,
   "metadata": {},
   "outputs": [],
   "source": [
    "# Let's instanstiate a genome to start.\n",
    "from abacat import Genome\n",
    "\n",
    "g = Genome()"
   ]
  },
  {
   "cell_type": "markdown",
   "metadata": {},
   "source": [
    "### Loading data\n",
    "Well, our class doesn't hold anything for now, but we can load a .fasta file containing WGS data. Abacat comes with 7 genomes so you can play around without worrying with downloading data.\n",
    "\n",
    "Our genomes are located in `abacat/data/genomes`.\n",
    "\n",
    "For now, let's load a genome unto our genome instance. This is a cyanobacterial genome of the species **Synechococcus elongatus**, but it comes named for its NCBI accession number. More information about it is available [here](https://www.ncbi.nlm.nih.gov/assembly/GCF_000012525.1/), at the NCBI Assembly database."
   ]
  },
  {
   "cell_type": "code",
   "execution_count": 2,
   "metadata": {},
   "outputs": [
    {
     "name": "stderr",
     "output_type": "stream",
     "text": [
      "2019-09-27 05:33:09 - Contigs file set as /Users/viniWS/Bio/abacat/abacat/data/genomes/GCF_000012525.1_ASM1252v1_genomic.fna\n",
      "2019-09-27 05:33:09 - Directory set as /Users/viniWS/Bio/abacat/abacat/data/genomes\n",
      "2019-09-27 05:33:09 - Name set as GCF_000012525.1_ASM1252v1_genomic\n"
     ]
    }
   ],
   "source": [
    "g.load_contigs(\"abacat/data/genomes/GCF_000012525.1_ASM1252v1_genomic.fna\")"
   ]
  },
  {
   "cell_type": "markdown",
   "metadata": {},
   "source": [
    "Notice that Abacat sets `directory` and `name` attributes. Our file is stored in `g.files`."
   ]
  },
  {
   "cell_type": "code",
   "execution_count": 3,
   "metadata": {},
   "outputs": [
    {
     "data": {
      "text/plain": [
       "{'contigs': '/Users/viniWS/Bio/abacat/abacat/data/genomes/GCF_000012525.1_ASM1252v1_genomic.fna'}"
      ]
     },
     "execution_count": 3,
     "metadata": {},
     "output_type": "execute_result"
    }
   ],
   "source": [
    "g.files"
   ]
  },
  {
   "cell_type": "markdown",
   "metadata": {},
   "source": [
    "`g.files` is a dictionary because we will generate more files and their paths will be stored there. We can have a look at our sequence statistics using [seqstats](https://github.com/clwgg/seqstats), a quick command line tool which Abacat provides a wrapper for:"
   ]
  },
  {
   "cell_type": "code",
   "execution_count": 4,
   "metadata": {},
   "outputs": [
    {
     "data": {
      "text/plain": [
       "{'Total n': 2.0,\n",
       " 'Total seq': 2742269.0,\n",
       " 'Avg. seq': 1371134.5,\n",
       " 'Median seq': 1371134.5,\n",
       " 'N 50': 2695903.0,\n",
       " 'Min seq': 46366.0,\n",
       " 'Max seq': 2695903.0}"
      ]
     },
     "execution_count": 4,
     "metadata": {},
     "output_type": "execute_result"
    }
   ],
   "source": [
    "g.load_seqstats()\n",
    "g.seqstats  # We also store this information as an attribute."
   ]
  },
  {
   "cell_type": "markdown",
   "metadata": {},
   "source": [
    "We can see we have a perfect genome assembly, with one chromosome (the larger sequence, 2.69 mbp) and a plasmid (46 kbp).\n",
    "\n",
    "### Gene calling, gene sets and prot sets\n",
    "The next thing we might want to with an assembly is to predict coding sequences (CDS) so we can have a file with genes (which we will call `geneset`) and a file with proteins, which we will call `protset`. For gene calling, we have a wrapper for [Prodigal](https://github.com/hyattpd/Prodigal), a popular software for that:"
   ]
  },
  {
   "cell_type": "code",
   "execution_count": 13,
   "metadata": {},
   "outputs": [
    {
     "name": "stderr",
     "output_type": "stream",
     "text": [
      "2019-09-27 05:42:49 - Starting Prodigal. Your input file is /Users/viniWS/Bio/abacat/abacat/data/genomes/GCF_000012525.1_ASM1252v1_genomic.fna. Quiet setting is True.\n",
      "2019-09-27 05:42:57 - Loaded gene set from Prodigal data. It has 2725 genes.\n",
      "2019-09-27 05:42:57 - Loaded protein set from Prodigal data.\n",
      "2019-09-27 05:42:57 - Took 0:00:07.566366\n"
     ]
    }
   ],
   "source": [
    "g.run_prodigal()"
   ]
  },
  {
   "cell_type": "markdown",
   "metadata": {},
   "source": [
    "These files are stored in our `files` attribute, which we saw previously:"
   ]
  },
  {
   "cell_type": "code",
   "execution_count": 14,
   "metadata": {},
   "outputs": [
    {
     "data": {
      "text/plain": [
       "{'contigs': '/Users/viniWS/Bio/abacat/abacat/data/genomes/GCF_000012525.1_ASM1252v1_genomic.fna',\n",
       " 'prodigal': {'genes': '/Users/viniWS/Bio/abacat/abacat/data/genomes/GCF_000012525.1_ASM1252v1_genomic_prodigal_genes.fna',\n",
       "  'proteins': '/Users/viniWS/Bio/abacat/abacat/data/genomes/GCF_000012525.1_ASM1252v1_genomic_prodigal_proteins.faa',\n",
       "  'cds': '/Users/viniWS/Bio/abacat/abacat/data/genomes/GCF_000012525.1_ASM1252v1_genomic_prodigal_cds.gbk'}}"
      ]
     },
     "execution_count": 14,
     "metadata": {},
     "output_type": "execute_result"
    }
   ],
   "source": [
    "g.files"
   ]
  },
  {
   "cell_type": "markdown",
   "metadata": {},
   "source": [
    "Now we have two keys in our `g.files` dictionary: the `'contigs'` key, which holds the file we started with, and the `'prodigal'` keys, which holds a dictionary with the CDS files."
   ]
  },
  {
   "cell_type": "code",
   "execution_count": 15,
   "metadata": {},
   "outputs": [
    {
     "data": {
      "text/plain": [
       "'/Users/viniWS/Bio/abacat/abacat/data/genomes/GCF_000012525.1_ASM1252v1_genomic_prodigal_proteins.faa'"
      ]
     },
     "execution_count": 15,
     "metadata": {},
     "output_type": "execute_result"
    }
   ],
   "source": [
    "g.files[\"prodigal\"][\"proteins\"]  # The path to our file holding a set of proteins."
   ]
  },
  {
   "cell_type": "markdown",
   "metadata": {},
   "source": [
    "Our `Genome` object also loads all of these sequences in memory, through the `geneset` and `protset` attributes:"
   ]
  },
  {
   "cell_type": "code",
   "execution_count": 16,
   "metadata": {},
   "outputs": [
    {
     "data": {
      "text/plain": [
       "dict_keys(['records', 'origin'])"
      ]
     },
     "execution_count": 16,
     "metadata": {},
     "output_type": "execute_result"
    }
   ],
   "source": [
    "g.geneset[\"prodigal\"].keys()"
   ]
  },
  {
   "cell_type": "markdown",
   "metadata": {},
   "source": [
    "Our `\"prodigal\"` geneset has all the records from our original genome file. The `\"records\"` key accesses all of the sequence records in the `geneset`, and the `\"origin\"` key points to the file from which they were generated:"
   ]
  },
  {
   "cell_type": "code",
   "execution_count": 17,
   "metadata": {},
   "outputs": [
    {
     "data": {
      "text/plain": [
       "(2725,\n",
       " '/Users/viniWS/Bio/abacat/abacat/data/genomes/GCF_000012525.1_ASM1252v1_genomic_prodigal_genes.fna')"
      ]
     },
     "execution_count": 17,
     "metadata": {},
     "output_type": "execute_result"
    }
   ],
   "source": [
    "len(g.geneset[\"prodigal\"][\"records\"]), g.geneset[\"prodigal\"][\"origin\"]"
   ]
  },
  {
   "cell_type": "markdown",
   "metadata": {},
   "source": [
    "Now we have all of these 2725 loaded as a dictionary, which each sequence ID being the key."
   ]
  },
  {
   "cell_type": "code",
   "execution_count": 18,
   "metadata": {},
   "outputs": [
    {
     "data": {
      "text/plain": [
       "SeqRecord(seq=Seq('ATGCTTTGGCAAGATTGCGATCAAAGGCTCGGGCAGCCTCCCCCCATGAAGTTG...TAG', SingleLetterAlphabet()), id='NC_007604.1_1', name='NC_007604.1_1', description='NC_007604.1_1 # 65 # 1237 # 1 # ID=1_1;partial=00;start_type=ATG;rbs_motif=GGA/GAG/AGG;rbs_spacer=5-10bp;gc_cont=0.570', dbxrefs=[])"
      ]
     },
     "execution_count": 18,
     "metadata": {},
     "output_type": "execute_result"
    }
   ],
   "source": [
    "g.geneset[\"prodigal\"][\"records\"][\"NC_007604.1_1\"]"
   ]
  },
  {
   "cell_type": "code",
   "execution_count": 19,
   "metadata": {},
   "outputs": [
    {
     "data": {
      "text/plain": [
       "SeqRecord(seq=Seq('MLWQDCDQRLGQPPPMKLVCRQNELNTSLSLVSRAVPSRPNHPVLANVLLAADA...RS*', SingleLetterAlphabet()), id='NC_007604.1_1', name='NC_007604.1_1', description='NC_007604.1_1 # 65 # 1237 # 1 # ID=1_1;partial=00;start_type=ATG;rbs_motif=GGA/GAG/AGG;rbs_spacer=5-10bp;gc_cont=0.570', dbxrefs=[])"
      ]
     },
     "execution_count": 19,
     "metadata": {},
     "output_type": "execute_result"
    }
   ],
   "source": [
    "# The same goes for the protset:\n",
    "g.protset[\"prodigal\"][\"records\"][\"NC_007604.1_1\"]"
   ]
  },
  {
   "cell_type": "markdown",
   "metadata": {},
   "source": [
    "### Annotation\n",
    "\n",
    "Now that we have predicted CDSs in our genome, we can easily annotate these sequences. Abacat comes with two small pre-packaged databases:  \n",
    "* [Megares](https://megares.meglab.org/) - an antibiotic resistance genes database and\n",
    "* Phenotyping - which consists of genes involved in metabolic pathways which define phenotypes, and is still experimental.\n",
    "\n",
    "To annotate our genomes, we will use the `blast_seqs()` method, which can be adapted for either our gene set or our prot set. In this case, because we want a nucleotide to nucleotide alignment, we will use our gene set with blastn:"
   ]
  },
  {
   "cell_type": "code",
   "execution_count": 20,
   "metadata": {},
   "outputs": [
    {
     "name": "stderr",
     "output_type": "stream",
     "text": [
      "2019-09-27 05:48:20 - Blasting GCF_000012525.1_ASM1252v1_genomic to /Users/viniWS/Bio/abacat/abacat/data/genomes/GCF_000012525.1_ASM1252v1_genomic_megares_blast.xml.\n",
      "2019-09-27 05:48:23 - Found 1 hits.\n",
      "\n",
      "2019-09-27 05:48:23 - Wrote 1 annotated sequences to /Users/viniWS/Bio/abacat/abacat/data/genomes/GCF_000012525.1_ASM1252v1_genomic_megares.fasta.\n",
      "2019-09-27 05:48:23 - Took 0:00:03.035533\n"
     ]
    },
    {
     "name": "stdout",
     "output_type": "stream",
     "text": [
      "NC_007604.1_912 CARD|pvgb|CP002695|3866610-3867801|ARO:3001312|elfamycin|Elfamycins|EF-Tu_inhibition|TUFAB|RequiresSNPConfirmation\n"
     ]
    }
   ],
   "source": [
    "g.blast_seqs(db=\"megares\")"
   ]
  },
  {
   "cell_type": "markdown",
   "metadata": {},
   "source": [
    "Our annotation with Megares only found 1 gene! The annotation data is also stored in our genome object, and can be accessing the database key in the `files` attribute, like so: `g.files['megares']`\n",
    "\n",
    "It produces 3 files:\n",
    "* xml - the BLASTn result in XML format.\n",
    "* annotation - the matching hits with corresponding annotation\n",
    "* hits - only the hit description, without the sequences."
   ]
  },
  {
   "cell_type": "code",
   "execution_count": 26,
   "metadata": {},
   "outputs": [
    {
     "data": {
      "text/plain": [
       "{'xml': '/Users/viniWS/Bio/abacat/abacat/data/genomes/GCF_000012525.1_ASM1252v1_genomic_megares_blast.xml',\n",
       " 'annotation': '/Users/viniWS/Bio/abacat/abacat/data/genomes/GCF_000012525.1_ASM1252v1_genomic_megares.fasta',\n",
       " 'hits': '/Users/viniWS/Bio/abacat/abacat/data/genomes/GCF_000012525.1_ASM1252v1_genomic_megares.hits'}"
      ]
     },
     "execution_count": 26,
     "metadata": {},
     "output_type": "execute_result"
    }
   ],
   "source": [
    "g.files['megares']"
   ]
  },
  {
   "cell_type": "markdown",
   "metadata": {},
   "source": [
    "The same can be done for the phenotyping database. But, because it is a **protein** database, we can change our search strategy to \"blastx\", which searches nucleotides against protein sequences."
   ]
  },
  {
   "cell_type": "code",
   "execution_count": 28,
   "metadata": {},
   "outputs": [
    {
     "name": "stderr",
     "output_type": "stream",
     "text": [
      "2019-09-27 05:53:00 - Blasting GCF_000012525.1_ASM1252v1_genomic to /Users/viniWS/Bio/abacat/abacat/data/genomes/GCF_000012525.1_ASM1252v1_genomic_phenotyping_blast.xml.\n"
     ]
    },
    {
     "ename": "ApplicationError",
     "evalue": "Non-zero return code 2 from 'blastn -out /Users/viniWS/Bio/abacat/abacat/data/genomes/GCF_000012525.1_ASM1252v1_genomic_phenotyping_blast.xml -outfmt 5 -num_alignments 5 -query /Users/viniWS/Bio/abacat/abacat/data/genomes/GCF_000012525.1_ASM1252v1_genomic_prodigal_genes.fna -db /Users/viniWS/Bio/abacat/abacat/data/db/phenotyping/phenotyping.fasta -evalue 1e-20 -num_threads 2', message 'BLAST Database error: No alias or index file found for nucleotide database [/Users/viniWS/Bio/abacat/abacat/data/db/phenotyping/phenotyping.fasta] in search path [/Users/viniWS/Bio/abacat::]'",
     "output_type": "error",
     "traceback": [
      "\u001b[0;31m---------------------------------------------------------------------------\u001b[0m",
      "\u001b[0;31mApplicationError\u001b[0m                          Traceback (most recent call last)",
      "\u001b[0;32m<ipython-input-28-01650a3574ef>\u001b[0m in \u001b[0;36m<module>\u001b[0;34m\u001b[0m\n\u001b[0;32m----> 1\u001b[0;31m \u001b[0mg\u001b[0m\u001b[0;34m.\u001b[0m\u001b[0mblast_seqs\u001b[0m\u001b[0;34m(\u001b[0m\u001b[0mdb\u001b[0m\u001b[0;34m=\u001b[0m\u001b[0;34m\"phenotyping\"\u001b[0m\u001b[0;34m)\u001b[0m\u001b[0;34m\u001b[0m\u001b[0;34m\u001b[0m\u001b[0m\n\u001b[0m",
      "\u001b[0;32m~/Bio/abacat/abacat/abacat_helper.py\u001b[0m in \u001b[0;36mwrapper\u001b[0;34m(*args, **kwargs)\u001b[0m\n\u001b[1;32m     54\u001b[0m         \u001b[0mstart\u001b[0m \u001b[0;34m=\u001b[0m \u001b[0mtime\u001b[0m\u001b[0;34m.\u001b[0m\u001b[0mtime\u001b[0m\u001b[0;34m(\u001b[0m\u001b[0;34m)\u001b[0m\u001b[0;34m\u001b[0m\u001b[0;34m\u001b[0m\u001b[0m\n\u001b[1;32m     55\u001b[0m \u001b[0;34m\u001b[0m\u001b[0m\n\u001b[0;32m---> 56\u001b[0;31m         \u001b[0mfunc\u001b[0m\u001b[0;34m(\u001b[0m\u001b[0;34m*\u001b[0m\u001b[0margs\u001b[0m\u001b[0;34m,\u001b[0m \u001b[0;34m**\u001b[0m\u001b[0mkwargs\u001b[0m\u001b[0;34m)\u001b[0m\u001b[0;34m\u001b[0m\u001b[0;34m\u001b[0m\u001b[0m\n\u001b[0m\u001b[1;32m     57\u001b[0m \u001b[0;34m\u001b[0m\u001b[0m\n\u001b[1;32m     58\u001b[0m         \u001b[0mend\u001b[0m \u001b[0;34m=\u001b[0m \u001b[0mtime\u001b[0m\u001b[0;34m.\u001b[0m\u001b[0mtime\u001b[0m\u001b[0;34m(\u001b[0m\u001b[0;34m)\u001b[0m\u001b[0;34m\u001b[0m\u001b[0;34m\u001b[0m\u001b[0m\n",
      "\u001b[0;32m~/Bio/abacat/abacat/genome.py\u001b[0m in \u001b[0;36mblast_seqs\u001b[0;34m(self, db, blast, evalue)\u001b[0m\n\u001b[1;32m    388\u001b[0m             \u001b[0mnum_threads\u001b[0m\u001b[0;34m=\u001b[0m\u001b[0mCONFIG\u001b[0m\u001b[0;34m[\u001b[0m\u001b[0;34m\"threads\"\u001b[0m\u001b[0;34m]\u001b[0m\u001b[0;34m,\u001b[0m\u001b[0;34m\u001b[0m\u001b[0;34m\u001b[0m\u001b[0m\n\u001b[1;32m    389\u001b[0m         )\n\u001b[0;32m--> 390\u001b[0;31m         \u001b[0mstdout\u001b[0m\u001b[0;34m,\u001b[0m \u001b[0mstderr\u001b[0m \u001b[0;34m=\u001b[0m \u001b[0mblast_cmd\u001b[0m\u001b[0;34m(\u001b[0m\u001b[0;34m)\u001b[0m\u001b[0;34m\u001b[0m\u001b[0;34m\u001b[0m\u001b[0m\n\u001b[0m\u001b[1;32m    391\u001b[0m         \u001b[0mself\u001b[0m\u001b[0;34m.\u001b[0m\u001b[0mparse_xml_blast\u001b[0m\u001b[0;34m(\u001b[0m\u001b[0mdb\u001b[0m\u001b[0;34m)\u001b[0m\u001b[0;34m\u001b[0m\u001b[0;34m\u001b[0m\u001b[0m\n\u001b[1;32m    392\u001b[0m \u001b[0;34m\u001b[0m\u001b[0m\n",
      "\u001b[0;32m~/anaconda3/lib/python3.7/site-packages/Bio/Application/__init__.py\u001b[0m in \u001b[0;36m__call__\u001b[0;34m(self, stdin, stdout, stderr, cwd, env)\u001b[0m\n\u001b[1;32m    525\u001b[0m         \u001b[0;32mif\u001b[0m \u001b[0mreturn_code\u001b[0m\u001b[0;34m:\u001b[0m\u001b[0;34m\u001b[0m\u001b[0;34m\u001b[0m\u001b[0m\n\u001b[1;32m    526\u001b[0m             raise ApplicationError(return_code, str(self),\n\u001b[0;32m--> 527\u001b[0;31m                                    stdout_str, stderr_str)\n\u001b[0m\u001b[1;32m    528\u001b[0m         \u001b[0;32mreturn\u001b[0m \u001b[0mstdout_str\u001b[0m\u001b[0;34m,\u001b[0m \u001b[0mstderr_str\u001b[0m\u001b[0;34m\u001b[0m\u001b[0;34m\u001b[0m\u001b[0m\n\u001b[1;32m    529\u001b[0m \u001b[0;34m\u001b[0m\u001b[0m\n",
      "\u001b[0;31mApplicationError\u001b[0m: Non-zero return code 2 from 'blastn -out /Users/viniWS/Bio/abacat/abacat/data/genomes/GCF_000012525.1_ASM1252v1_genomic_phenotyping_blast.xml -outfmt 5 -num_alignments 5 -query /Users/viniWS/Bio/abacat/abacat/data/genomes/GCF_000012525.1_ASM1252v1_genomic_prodigal_genes.fna -db /Users/viniWS/Bio/abacat/abacat/data/db/phenotyping/phenotyping.fasta -evalue 1e-20 -num_threads 2', message 'BLAST Database error: No alias or index file found for nucleotide database [/Users/viniWS/Bio/abacat/abacat/data/db/phenotyping/phenotyping.fasta] in search path [/Users/viniWS/Bio/abacat::]'"
     ]
    }
   ],
   "source": [
    "g.blast_seqs(db=\"phenotyping\", blast=\"blastx\")"
   ]
  },
  {
   "cell_type": "code",
   "execution_count": 29,
   "metadata": {},
   "outputs": [
    {
     "name": "stdout",
     "output_type": "stream",
     "text": [
      "/Users/viniWS/Bio/abacat/abacat/data/db/phenotyping/phenotyping.fasta\r\n"
     ]
    }
   ],
   "source": [
    "!ls /Users/viniWS/Bio/abacat/abacat/data/db/phenotyping/phenotyping.fasta"
   ]
  },
  {
   "cell_type": "code",
   "execution_count": null,
   "metadata": {},
   "outputs": [],
   "source": []
  }
 ],
 "metadata": {
  "kernelspec": {
   "display_name": "Python 3",
   "language": "python",
   "name": "python3"
  },
  "language_info": {
   "codemirror_mode": {
    "name": "ipython",
    "version": 3
   },
   "file_extension": ".py",
   "mimetype": "text/x-python",
   "name": "python",
   "nbconvert_exporter": "python",
   "pygments_lexer": "ipython3",
   "version": "3.7.3"
  }
 },
 "nbformat": 4,
 "nbformat_minor": 2
}
