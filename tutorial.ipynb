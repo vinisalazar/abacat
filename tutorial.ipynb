{
 "cells": [
  {
   "cell_type": "markdown",
   "metadata": {},
   "source": [
    "## Abacat tutorial\n",
    "\n",
    "\n",
    "### Getting started\n",
    "Using Abacat is quite straightforward, and you will find that it can be used inline (like in this tutorial) and also in the command line.\n",
    "\n",
    "Abacat's main class is the `Genome` class, which will hold most of your data."
   ]
  },
  {
   "cell_type": "code",
   "execution_count": 12,
   "metadata": {},
   "outputs": [],
   "source": [
    "# Let's instanstiate a genome to start.\n",
    "from abacat import Genome\n",
    "\n",
    "g = Genome()"
   ]
  },
  {
   "cell_type": "markdown",
   "metadata": {},
   "source": [
    "### Loading data\n",
    "Well, our class doesn't hold anything for now, but we can load a .fasta file containing WGS data. Abacat comes with 7 genomes so you can play around without worrying with downloading data.\n",
    "\n",
    "Our genomes are located in `abacat/data/genomes`.\n",
    "\n",
    "For now, let's load a genome unto our genome instance. This is a cyanobacterial genome of the species **Synechococcus elongatus**, but it comes named for its NCBI accession number. More information about it is available [here](https://www.ncbi.nlm.nih.gov/assembly/GCF_000012525.1/), at the NCBI Assembly database."
   ]
  },
  {
   "cell_type": "code",
   "execution_count": 25,
   "metadata": {},
   "outputs": [
    {
     "name": "stderr",
     "output_type": "stream",
     "text": [
      "2019-09-27 04:58:14 - Contigs file set as /Users/viniWS/Bio/abacat/abacat/data/genomes/GCF_000012525.1_ASM1252v1_genomic.fna\n",
      "2019-09-27 04:58:14 - Directory set as /Users/viniWS/Bio/abacat/abacat/data/genomes\n",
      "2019-09-27 04:58:14 - Name set as GCF_000012525.1_ASM1252v1_genomic\n"
     ]
    }
   ],
   "source": [
    "g.load_contigs(\"abacat/data/genomes/GCF_000012525.1_ASM1252v1_genomic.fna\")"
   ]
  },
  {
   "cell_type": "markdown",
   "metadata": {},
   "source": [
    "Notice that Abacat sets `directory` and `name` attributes. Our file is stored in `g.files`."
   ]
  },
  {
   "cell_type": "code",
   "execution_count": 26,
   "metadata": {},
   "outputs": [
    {
     "data": {
      "text/plain": [
       "{'contigs': '/Users/viniWS/Bio/abacat/abacat/data/genomes/GCF_000012525.1_ASM1252v1_genomic.fna'}"
      ]
     },
     "execution_count": 26,
     "metadata": {},
     "output_type": "execute_result"
    }
   ],
   "source": [
    "g.files"
   ]
  },
  {
   "cell_type": "markdown",
   "metadata": {},
   "source": [
    "`g.files` is a dictionary because we will generate more files and their paths will be stored there. We can have a look at our sequence statistics using [seqstats](https://github.com/clwgg/seqstats), a quick command line tool which Abacat provides a wrapper for:"
   ]
  },
  {
   "cell_type": "code",
   "execution_count": 27,
   "metadata": {},
   "outputs": [
    {
     "data": {
      "text/plain": [
       "{'Total n': 2.0,\n",
       " 'Total seq': 2742269.0,\n",
       " 'Avg. seq': 1371134.5,\n",
       " 'Median seq': 1371134.5,\n",
       " 'N 50': 2695903.0,\n",
       " 'Min seq': 46366.0,\n",
       " 'Max seq': 2695903.0}"
      ]
     },
     "execution_count": 27,
     "metadata": {},
     "output_type": "execute_result"
    }
   ],
   "source": [
    "g.load_seqstats()\n",
    "g.seqstats  # We also store this information as an attribute."
   ]
  },
  {
   "cell_type": "markdown",
   "metadata": {},
   "source": [
    "We can see we have a perfect genome assembly, with one chromosome (the larger sequence, 2.69 mbp) and a plasmid (46 kbp).\n",
    "\n",
    "### Gene calling, gene sets and prot sets\n",
    "The next thing we might want to with an assembly is to predict coding sequences (CDS) so we can have a file with genes (which we will call `geneset`) and a file with proteins, which we will call `protset`. For gene calling, we have a wrapper for [Prodigal](https://github.com/hyattpd/Prodigal), a popular software for that:"
   ]
  },
  {
   "cell_type": "code",
   "execution_count": 28,
   "metadata": {},
   "outputs": [
    {
     "name": "stderr",
     "output_type": "stream",
     "text": [
      "2019-09-27 04:59:59 - Starting Prodigal. Your input file is /Users/viniWS/Bio/abacat/abacat/data/genomes/GCF_000012525.1_ASM1252v1_genomic.fna. Quiet setting is True.\n",
      "2019-09-27 05:00:06 - Loaded gene set from Prodigal data. It has 2725 genes.\n",
      "2019-09-27 05:00:06 - Loaded protein set from Prodigal data. It has 2725 proteins.\n",
      "2019-09-27 05:00:06 - Took 0:00:07.663129\n"
     ]
    },
    {
     "name": "stdout",
     "output_type": "stream",
     "text": [
      "Created files at /Users/viniWS/Bio/abacat/abacat/data/genomes/GCF_000012525.1_ASM1252v1_genomic_prodigal/GCF_000012525.1_ASM1252v1_genomic_prodigal:\n",
      "\t /Users/viniWS/Bio/abacat/abacat/data/genomes/GCF_000012525.1_ASM1252v1_genomic_prodigal_genes.fna\n",
      "\t /Users/viniWS/Bio/abacat/abacat/data/genomes/GCF_000012525.1_ASM1252v1_genomic_prodigal_proteins.faa\n",
      "\t /Users/viniWS/Bio/abacat/abacat/data/genomes/GCF_000012525.1_ASM1252v1_genomic_prodigal_cds.gbk\n"
     ]
    }
   ],
   "source": [
    "g.run_prodigal()"
   ]
  },
  {
   "cell_type": "markdown",
   "metadata": {},
   "source": [
    "These files are stored in our `files` attribute, which we saw previously:"
   ]
  },
  {
   "cell_type": "code",
   "execution_count": 31,
   "metadata": {},
   "outputs": [
    {
     "data": {
      "text/plain": [
       "{'contigs': '/Users/viniWS/Bio/abacat/abacat/data/genomes/GCF_000012525.1_ASM1252v1_genomic.fna',\n",
       " 'prodigal': {'genes': '/Users/viniWS/Bio/abacat/abacat/data/genomes/GCF_000012525.1_ASM1252v1_genomic_prodigal_genes.fna',\n",
       "  'proteins': '/Users/viniWS/Bio/abacat/abacat/data/genomes/GCF_000012525.1_ASM1252v1_genomic_prodigal_proteins.faa',\n",
       "  'cds': '/Users/viniWS/Bio/abacat/abacat/data/genomes/GCF_000012525.1_ASM1252v1_genomic_prodigal_cds.gbk'}}"
      ]
     },
     "execution_count": 31,
     "metadata": {},
     "output_type": "execute_result"
    }
   ],
   "source": [
    "g.files"
   ]
  },
  {
   "cell_type": "markdown",
   "metadata": {},
   "source": [
    "Now we have two keys in our `g.files` dictionary: the `'contigs'` key, which holds the file we started with, and the `'prodigal'` keys, which holds a dictionary with the CDS files."
   ]
  },
  {
   "cell_type": "code",
   "execution_count": 32,
   "metadata": {},
   "outputs": [
    {
     "data": {
      "text/plain": [
       "'/Users/viniWS/Bio/abacat/abacat/data/genomes/GCF_000012525.1_ASM1252v1_genomic_prodigal_proteins.faa'"
      ]
     },
     "execution_count": 32,
     "metadata": {},
     "output_type": "execute_result"
    }
   ],
   "source": [
    "g.files[\"prodigal\"][\"proteins\"]  # The path to our file holding a set of proteins."
   ]
  },
  {
   "cell_type": "markdown",
   "metadata": {},
   "source": [
    "Our `Genome` object also loads all of these sequences in memory, through the `geneset` and `protset` attributes:"
   ]
  },
  {
   "cell_type": "code",
   "execution_count": 39,
   "metadata": {},
   "outputs": [
    {
     "data": {
      "text/plain": [
       "dict_keys(['records', 'origin'])"
      ]
     },
     "execution_count": 39,
     "metadata": {},
     "output_type": "execute_result"
    }
   ],
   "source": [
    "g.geneset[\"prodigal\"].keys()"
   ]
  },
  {
   "cell_type": "markdown",
   "metadata": {},
   "source": [
    "Our `\"prodigal\"` geneset has all the records from our original genome file. The `\"records\"` key accesses all of the sequence records in the `geneset`, and the `\"origin\"` key points to the file from which they were generated:"
   ]
  },
  {
   "cell_type": "code",
   "execution_count": 41,
   "metadata": {},
   "outputs": [
    {
     "data": {
      "text/plain": [
       "(2725,\n",
       " '/Users/viniWS/Bio/abacat/abacat/data/genomes/GCF_000012525.1_ASM1252v1_genomic_prodigal_genes.fna')"
      ]
     },
     "execution_count": 41,
     "metadata": {},
     "output_type": "execute_result"
    }
   ],
   "source": [
    "len(g.geneset[\"prodigal\"][\"records\"]), g.geneset[\"prodigal\"][\"origin\"]"
   ]
  },
  {
   "cell_type": "markdown",
   "metadata": {},
   "source": [
    "Now we have all of these 2725 loaded as a dictionary, which each sequence ID being the key."
   ]
  },
  {
   "cell_type": "code",
   "execution_count": 44,
   "metadata": {},
   "outputs": [
    {
     "data": {
      "text/plain": [
       "SeqRecord(seq=Seq('ATGCTTTGGCAAGATTGCGATCAAAGGCTCGGGCAGCCTCCCCCCATGAAGTTG...TAG', SingleLetterAlphabet()), id='NC_007604.1_1', name='NC_007604.1_1', description='NC_007604.1_1 # 65 # 1237 # 1 # ID=1_1;partial=00;start_type=ATG;rbs_motif=GGA/GAG/AGG;rbs_spacer=5-10bp;gc_cont=0.570', dbxrefs=[])"
      ]
     },
     "execution_count": 44,
     "metadata": {},
     "output_type": "execute_result"
    }
   ],
   "source": [
    "g.geneset[\"prodigal\"][\"records\"][\"NC_007604.1_1\"]"
   ]
  },
  {
   "cell_type": "code",
   "execution_count": 46,
   "metadata": {},
   "outputs": [
    {
     "data": {
      "text/plain": [
       "SeqRecord(seq=Seq('MLWQDCDQRLGQPPPMKLVCRQNELNTSLSLVSRAVPSRPNHPVLANVLLAADA...RS*', SingleLetterAlphabet()), id='NC_007604.1_1', name='NC_007604.1_1', description='NC_007604.1_1 # 65 # 1237 # 1 # ID=1_1;partial=00;start_type=ATG;rbs_motif=GGA/GAG/AGG;rbs_spacer=5-10bp;gc_cont=0.570', dbxrefs=[])"
      ]
     },
     "execution_count": 46,
     "metadata": {},
     "output_type": "execute_result"
    }
   ],
   "source": [
    "# The same goes for the protset:\n",
    "g.protset[\"prodigal\"][\"records\"][0]"
   ]
  },
  {
   "cell_type": "code",
   "execution_count": 9,
   "metadata": {},
   "outputs": [
    {
     "data": {
      "text/plain": [
       "['blast_seqs',\n",
       " 'df_prodigal',\n",
       " 'directory',\n",
       " 'files',\n",
       " 'fnoseqs',\n",
       " 'geneset',\n",
       " 'load_contigs',\n",
       " 'load_geneset',\n",
       " 'load_prodigal',\n",
       " 'load_protset',\n",
       " 'load_seqstats',\n",
       " 'name',\n",
       " 'parse_xml_blast',\n",
       " 'pathways',\n",
       " 'print_seqstats',\n",
       " 'protset',\n",
       " 'run_pathways',\n",
       " 'run_prodigal',\n",
       " 'run_prokka',\n",
       " 'seqstats',\n",
       " 'sseqs',\n",
       " 'to_json',\n",
       " 'valid_contigs']"
      ]
     },
     "execution_count": 9,
     "metadata": {},
     "output_type": "execute_result"
    }
   ],
   "source": [
    "[prop for prop in dir(g) if not prop.startswith(\"__\")]"
   ]
  },
  {
   "cell_type": "code",
   "execution_count": null,
   "metadata": {},
   "outputs": [],
   "source": []
  }
 ],
 "metadata": {
  "kernelspec": {
   "display_name": "Python 3",
   "language": "python",
   "name": "python3"
  },
  "language_info": {
   "codemirror_mode": {
    "name": "ipython",
    "version": 3
   },
   "file_extension": ".py",
   "mimetype": "text/x-python",
   "name": "python",
   "nbconvert_exporter": "python",
   "pygments_lexer": "ipython3",
   "version": "3.7.3"
  }
 },
 "nbformat": 4,
 "nbformat_minor": 2
}
