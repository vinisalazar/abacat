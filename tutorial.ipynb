{
 "cells": [
  {
   "cell_type": "markdown",
   "metadata": {},
   "source": [
    "## Abacat tutorial\n",
    "\n",
    "\n",
    "### Getting started\n",
    "Using Abacat is quite straightforward, and you will find that it can be used inline (like in this tutorial) and also in the command line.\n",
    "\n",
    "Abacat's main class is the `Genome` class, which will hold most of your data."
   ]
  },
  {
   "cell_type": "code",
   "execution_count": 1,
   "metadata": {},
   "outputs": [],
   "source": [
    "# Let's instanstiate a genome to start.\n",
    "from abacat import Genome\n",
    "\n",
    "g = Genome()"
   ]
  },
  {
   "cell_type": "markdown",
   "metadata": {},
   "source": [
    "### Loading data\n",
    "Well, our class doesn't hold anything for now, but we can load a .fasta file containing WGS data. Abacat comes with 7 genomes so you can play around without worrying with downloading data.\n",
    "\n",
    "Our genomes are located in `abacat/data/genomes`.\n",
    "\n",
    "For now, let's load a genome unto our genome instance. This is a cyanobacterial genome of the species **Synechococcus elongatus**, but it comes named for its NCBI accession number. More information about it is available [here](https://www.ncbi.nlm.nih.gov/assembly/GCF_000012525.1/), at the NCBI Assembly database."
   ]
  },
  {
   "cell_type": "code",
   "execution_count": 2,
   "metadata": {},
   "outputs": [
    {
     "name": "stderr",
     "output_type": "stream",
     "text": [
      "2019-09-27 06:10:08 - Contigs file set as /Users/viniWS/Bio/abacat/abacat/data/genomes/GCF_000012525.1_ASM1252v1_genomic.fna\n",
      "2019-09-27 06:10:08 - Directory set as /Users/viniWS/Bio/abacat/abacat/data/genomes\n",
      "2019-09-27 06:10:08 - Name set as GCF_000012525.1_ASM1252v1_genomic\n"
     ]
    }
   ],
   "source": [
    "g.load_contigs(\"abacat/data/genomes/GCF_000012525.1_ASM1252v1_genomic.fna\")"
   ]
  },
  {
   "cell_type": "markdown",
   "metadata": {},
   "source": [
    "Notice that Abacat sets `directory` and `name` attributes. Our file is stored in `g.files`."
   ]
  },
  {
   "cell_type": "code",
   "execution_count": 3,
   "metadata": {},
   "outputs": [
    {
     "data": {
      "text/plain": [
       "{'contigs': '/Users/viniWS/Bio/abacat/abacat/data/genomes/GCF_000012525.1_ASM1252v1_genomic.fna'}"
      ]
     },
     "execution_count": 3,
     "metadata": {},
     "output_type": "execute_result"
    }
   ],
   "source": [
    "g.files"
   ]
  },
  {
   "cell_type": "markdown",
   "metadata": {},
   "source": [
    "`g.files` is a dictionary because we will generate more files and their paths will be stored there. We can have a look at our sequence statistics using [seqstats](https://github.com/clwgg/seqstats), a quick command line tool which Abacat provides a wrapper for:"
   ]
  },
  {
   "cell_type": "code",
   "execution_count": 4,
   "metadata": {},
   "outputs": [
    {
     "data": {
      "text/plain": [
       "{'Total n': 2.0,\n",
       " 'Total seq': 2742269.0,\n",
       " 'Avg. seq': 1371134.5,\n",
       " 'Median seq': 1371134.5,\n",
       " 'N 50': 2695903.0,\n",
       " 'Min seq': 46366.0,\n",
       " 'Max seq': 2695903.0}"
      ]
     },
     "execution_count": 4,
     "metadata": {},
     "output_type": "execute_result"
    }
   ],
   "source": [
    "g.load_seqstats()\n",
    "g.seqstats  # We also store this information as an attribute."
   ]
  },
  {
   "cell_type": "markdown",
   "metadata": {},
   "source": [
    "We can see we have a perfect genome assembly, with one chromosome (the larger sequence, 2.69 mbp) and a plasmid (46 kbp).\n",
    "\n",
    "### Gene calling, gene sets and prot sets\n",
    "The next thing we might want to with an assembly is to predict coding sequences (CDS) so we can have a file with genes (which we will call `geneset`) and a file with proteins, which we will call `protset`. For gene calling, we have a wrapper for [Prodigal](https://github.com/hyattpd/Prodigal), a popular software for that:"
   ]
  },
  {
   "cell_type": "code",
   "execution_count": 5,
   "metadata": {},
   "outputs": [
    {
     "name": "stderr",
     "output_type": "stream",
     "text": [
      "2019-09-27 06:10:08 - Starting Prodigal. Your input file is /Users/viniWS/Bio/abacat/abacat/data/genomes/GCF_000012525.1_ASM1252v1_genomic.fna. Quiet setting is True.\n",
      "2019-09-27 06:10:15 - Loaded gene set from Prodigal data. It has 2725 genes.\n",
      "2019-09-27 06:10:15 - Loaded protein set from Prodigal data.\n",
      "2019-09-27 06:10:15 - Took 0:00:07.257303\n"
     ]
    }
   ],
   "source": [
    "g.run_prodigal()"
   ]
  },
  {
   "cell_type": "markdown",
   "metadata": {},
   "source": [
    "These files are stored in our `files` attribute, which we saw previously:"
   ]
  },
  {
   "cell_type": "code",
   "execution_count": 6,
   "metadata": {},
   "outputs": [
    {
     "data": {
      "text/plain": [
       "{'contigs': '/Users/viniWS/Bio/abacat/abacat/data/genomes/GCF_000012525.1_ASM1252v1_genomic.fna',\n",
       " 'prodigal': {'genes': '/Users/viniWS/Bio/abacat/abacat/data/genomes/GCF_000012525.1_ASM1252v1_genomic_prodigal_genes.fna',\n",
       "  'proteins': '/Users/viniWS/Bio/abacat/abacat/data/genomes/GCF_000012525.1_ASM1252v1_genomic_prodigal_proteins.faa',\n",
       "  'cds': '/Users/viniWS/Bio/abacat/abacat/data/genomes/GCF_000012525.1_ASM1252v1_genomic_prodigal_cds.gbk'}}"
      ]
     },
     "execution_count": 6,
     "metadata": {},
     "output_type": "execute_result"
    }
   ],
   "source": [
    "g.files"
   ]
  },
  {
   "cell_type": "markdown",
   "metadata": {},
   "source": [
    "Now we have two keys in our `g.files` dictionary: the `'contigs'` key, which holds the file we started with, and the `'prodigal'` keys, which holds a dictionary with the CDS files."
   ]
  },
  {
   "cell_type": "code",
   "execution_count": 7,
   "metadata": {},
   "outputs": [
    {
     "data": {
      "text/plain": [
       "'/Users/viniWS/Bio/abacat/abacat/data/genomes/GCF_000012525.1_ASM1252v1_genomic_prodigal_proteins.faa'"
      ]
     },
     "execution_count": 7,
     "metadata": {},
     "output_type": "execute_result"
    }
   ],
   "source": [
    "g.files[\"prodigal\"][\"proteins\"]  # The path to our file holding a set of proteins."
   ]
  },
  {
   "cell_type": "markdown",
   "metadata": {},
   "source": [
    "Our `Genome` object also loads all of these sequences in memory, through the `geneset` and `protset` attributes:"
   ]
  },
  {
   "cell_type": "code",
   "execution_count": 8,
   "metadata": {},
   "outputs": [
    {
     "data": {
      "text/plain": [
       "dict_keys(['records', 'origin'])"
      ]
     },
     "execution_count": 8,
     "metadata": {},
     "output_type": "execute_result"
    }
   ],
   "source": [
    "g.geneset[\"prodigal\"].keys()"
   ]
  },
  {
   "cell_type": "markdown",
   "metadata": {},
   "source": [
    "Our `\"prodigal\"` geneset has all the records from our original genome file. The `\"records\"` key accesses all of the sequence records in the `geneset`, and the `\"origin\"` key points to the file from which they were generated:"
   ]
  },
  {
   "cell_type": "code",
   "execution_count": 9,
   "metadata": {},
   "outputs": [
    {
     "data": {
      "text/plain": [
       "(2725,\n",
       " '/Users/viniWS/Bio/abacat/abacat/data/genomes/GCF_000012525.1_ASM1252v1_genomic_prodigal_genes.fna')"
      ]
     },
     "execution_count": 9,
     "metadata": {},
     "output_type": "execute_result"
    }
   ],
   "source": [
    "len(g.geneset[\"prodigal\"][\"records\"]), g.geneset[\"prodigal\"][\"origin\"]"
   ]
  },
  {
   "cell_type": "markdown",
   "metadata": {},
   "source": [
    "Now we have all of these 2725 loaded as a dictionary, which each sequence ID being the key."
   ]
  },
  {
   "cell_type": "code",
   "execution_count": 10,
   "metadata": {},
   "outputs": [
    {
     "data": {
      "text/plain": [
       "SeqRecord(seq=Seq('ATGCTTTGGCAAGATTGCGATCAAAGGCTCGGGCAGCCTCCCCCCATGAAGTTG...TAG', SingleLetterAlphabet()), id='NC_007604.1_1', name='NC_007604.1_1', description='NC_007604.1_1 # 65 # 1237 # 1 # ID=1_1;partial=00;start_type=ATG;rbs_motif=GGA/GAG/AGG;rbs_spacer=5-10bp;gc_cont=0.570', dbxrefs=[])"
      ]
     },
     "execution_count": 10,
     "metadata": {},
     "output_type": "execute_result"
    }
   ],
   "source": [
    "g.geneset[\"prodigal\"][\"records\"][\"NC_007604.1_1\"]"
   ]
  },
  {
   "cell_type": "code",
   "execution_count": 11,
   "metadata": {},
   "outputs": [
    {
     "data": {
      "text/plain": [
       "SeqRecord(seq=Seq('MLWQDCDQRLGQPPPMKLVCRQNELNTSLSLVSRAVPSRPNHPVLANVLLAADA...RS*', SingleLetterAlphabet()), id='NC_007604.1_1', name='NC_007604.1_1', description='NC_007604.1_1 # 65 # 1237 # 1 # ID=1_1;partial=00;start_type=ATG;rbs_motif=GGA/GAG/AGG;rbs_spacer=5-10bp;gc_cont=0.570', dbxrefs=[])"
      ]
     },
     "execution_count": 11,
     "metadata": {},
     "output_type": "execute_result"
    }
   ],
   "source": [
    "# The same goes for the protset:\n",
    "g.protset[\"prodigal\"][\"records\"][\"NC_007604.1_1\"]"
   ]
  },
  {
   "cell_type": "markdown",
   "metadata": {},
   "source": [
    "### Annotation\n",
    "\n",
    "Now that we have predicted CDSs in our genome, we can easily annotate these sequences. Abacat comes with two small pre-packaged databases:  \n",
    "* [Megares](https://megares.meglab.org/) - an antibiotic resistance genes database and\n",
    "* Phenotyping - which consists of genes involved in metabolic pathways which define phenotypes, and is still experimental.\n",
    "\n",
    "To annotate our genomes, we will use the `blast_seqs()` method, which can be adapted for either our gene set or our prot set. In this case, because we want a nucleotide to nucleotide alignment, we will use our gene set with blastn:"
   ]
  },
  {
   "cell_type": "code",
   "execution_count": 12,
   "metadata": {},
   "outputs": [
    {
     "name": "stderr",
     "output_type": "stream",
     "text": [
      "2019-09-27 06:10:15 - Blasting GCF_000012525.1_ASM1252v1_genomic to /Users/viniWS/Bio/abacat/abacat/data/genomes/GCF_000012525.1_ASM1252v1_genomic_megares_blast.xml.\n",
      "2019-09-27 06:10:19 - Found 1 hits.\n",
      "\n",
      "2019-09-27 06:10:19 - Wrote 1 annotated sequences to /Users/viniWS/Bio/abacat/abacat/data/genomes/GCF_000012525.1_ASM1252v1_genomic_megares.fasta.\n",
      "2019-09-27 06:10:19 - Took 0:00:03.947968\n"
     ]
    },
    {
     "name": "stdout",
     "output_type": "stream",
     "text": [
      "NC_007604.1_912 CARD|pvgb|CP002695|3866610-3867801|ARO:3001312|elfamycin|Elfamycins|EF-Tu_inhibition|TUFAB|RequiresSNPConfirmation\n"
     ]
    }
   ],
   "source": [
    "g.blast_seqs(db=\"megares\")"
   ]
  },
  {
   "cell_type": "markdown",
   "metadata": {},
   "source": [
    "Our annotation with Megares only found 1 gene! The annotation data is also stored in our genome object, and can be accessing the database key in the `files` attribute, like so: `g.files['megares']`\n",
    "\n",
    "It produces 3 files:\n",
    "* xml - the BLASTn result in XML format.\n",
    "* annotation - the matching hits with corresponding annotation\n",
    "* hits - only the hit description, without the sequences."
   ]
  },
  {
   "cell_type": "code",
   "execution_count": 13,
   "metadata": {},
   "outputs": [
    {
     "data": {
      "text/plain": [
       "{'xml': '/Users/viniWS/Bio/abacat/abacat/data/genomes/GCF_000012525.1_ASM1252v1_genomic_megares_blast.xml',\n",
       " 'annotation': '/Users/viniWS/Bio/abacat/abacat/data/genomes/GCF_000012525.1_ASM1252v1_genomic_megares.fasta',\n",
       " 'hits': '/Users/viniWS/Bio/abacat/abacat/data/genomes/GCF_000012525.1_ASM1252v1_genomic_megares.hits'}"
      ]
     },
     "execution_count": 13,
     "metadata": {},
     "output_type": "execute_result"
    }
   ],
   "source": [
    "g.files['megares']"
   ]
  },
  {
   "cell_type": "markdown",
   "metadata": {},
   "source": [
    "### Phenotyping and pathways\n",
    "\n",
    "The same can be done for the phenotyping database. But, because it is a **protein** database, we can change our search strategy to \"blastx\", which searches nucleotides against protein sequences."
   ]
  },
  {
   "cell_type": "code",
   "execution_count": 14,
   "metadata": {},
   "outputs": [
    {
     "name": "stderr",
     "output_type": "stream",
     "text": [
      "2019-09-27 06:10:19 - Blasting GCF_000012525.1_ASM1252v1_genomic to /Users/viniWS/Bio/abacat/abacat/data/genomes/GCF_000012525.1_ASM1252v1_genomic_phenotyping_blast.xml.\n",
      "2019-09-27 06:10:44 - Found 40 hits.\n",
      "\n",
      "2019-09-27 06:10:44 - Wrote 40 annotated sequences to /Users/viniWS/Bio/abacat/abacat/data/genomes/GCF_000012525.1_ASM1252v1_genomic_phenotyping.fasta.\n",
      "2019-09-27 06:10:44 - Took 0:00:24.720374\n"
     ]
    },
    {
     "name": "stdout",
     "output_type": "stream",
     "text": [
      "NC_007604.1_9 ornithine.argininosuccinate_synthase.1\n",
      "NC_007604.1_18 ornithine.keto-hydroxyglutarate-aldolase.1\n",
      "NC_007604.1_32 ornithine.argD_bifunctional_N-succinyldiaminopimelate-amino.1\n",
      "NC_007604.1_69 arabinose.L-arabinose_transport_ATP-binding_protein_AraG.1\n",
      "NC_007604.1_118 mannitol.scrK_Fructokinase.6\n",
      "NC_007604.1_141 voges.Acetolactate_synthase_small_subunit.2\n",
      "NC_007604.1_247 sucrose.maltodextrin_phosphorylase.7\n",
      "NC_007604.1_252 arabinose.L-arabinose_transport_ATP-binding_protein_AraG.1\n",
      "NC_007604.1_324 galactose.UDP-glucose_4-epimerase.1\n",
      "NC_007604.1_496 ornithine.NAD-dependent_aldehyde_dehydrogenase.1\n",
      "NC_007604.1_506 sucrose.glucose-1-phosphate_adenylyltransferase2.3\n",
      "NC_007604.1_614 sucrose.glucose-1-phosphate_adenylyltransferase.6\n",
      "NC_007604.1_656 ornithine.argD_bifunctional_N-succinyldiaminopimelate-amino.1\n",
      "NC_007604.1_694 sorbitol.Sorbitol-6-phosphate_2-dehydrogenase.2\n",
      "NC_007604.1_839 arabinose.L-arabinose_transport_ATP-binding_protein_AraG.2\n",
      "NC_007604.1_971 ornithine.argD_bifunctional_N-succinyldiaminopimelate-amino.1\n",
      "NC_007604.1_976 arabinose.L-arabinose_transport_ATP-binding_protein_AraG.2\n",
      "NC_007604.1_1001 sucrose.UDP-glucose_6-dehydrogenase.3\n",
      "NC_007604.1_1051 sucrose.4-alpha-glucanotransferase.3\n",
      "NC_007604.1_1069 ornithine.arginine_decarboxylase.1\n",
      "NC_007604.1_1117 sucrose.1_4-alpha-glucan_branching_enzyme.1\n",
      "NC_007604.1_1455 arabinose.L-arabinose_transport_ATP-binding_protein_AraG.2\n",
      "NC_007604.1_1474 ornithine.argC_N-acetyl-gamma-glutamyl-phosphate_reductase.1\n",
      "NC_007604.1_1536 ornithine.acetylglutamate_kinase.1\n",
      "NC_007604.1_1653 mannose.mannose_1-phosphate_guanylyltransferase.1\n",
      "NC_007604.1_1938 inositol.Inositol_transport_system_ATP-binding_protein.1\n",
      "NC_007604.1_2019 sucrose.glucose-1-phosphate_adenylyltransferase2.6\n",
      "NC_007604.1_2077 sucrose.glucose-6-phosphate_isomerase.1\n",
      "NC_007604.1_2106 ornithine.pyrroline-5-carboxylate_reductase.1\n",
      "NC_007604.1_2208 ornithine.glnA_glutamine_synthetase.1\n",
      "NC_007604.1_2249 ornithine.gamma-glutamyl_kinase.1\n",
      "NC_007604.1_2294 ornithine.proA_gamma-glutamyl_phosphate_reductase.1\n",
      "NC_007604.1_2319 ornithine.proA_gamma-glutamyl_phosphate_reductase.1\n",
      "NC_007604.1_2351 ornithine.glnA_glutamine_synthetase.1\n",
      "NC_007604.1_2490 voges.Acetolactate_synthase_small_subunit2.2\n",
      "NC_007604.1_2532 ornithine.bifunctional_argininosuccinate_lyase.1\n",
      "NC_007604.1_2549 arabinose.L-arabinose_transport_ATP-binding_protein_AraG.2\n",
      "NC_007604.1_2571 ornithine.ornithine_carbamoyltransferase.1\n",
      "NC_007604.1_2575 sucrose.glycogen_synthase.6\n",
      "NC_007604.1_2640 inositol.Inositol-1-monophosphatase.1\n"
     ]
    }
   ],
   "source": [
    "g.blast_seqs(db=\"phenotyping\", blast=\"blastx\")"
   ]
  },
  {
   "cell_type": "markdown",
   "metadata": {},
   "source": [
    "We can see that the phenotyping database provided many more hits. Abacat provides a custom parser for the phenotyping database, associating each hit with a pathway. We can load this information (after the BLASTx search) using the `run_pathways()` method, and the information will be stored in the `g.pathways` attribute."
   ]
  },
  {
   "cell_type": "code",
   "execution_count": 15,
   "metadata": {},
   "outputs": [
    {
     "name": "stderr",
     "output_type": "stream",
     "text": [
      "2019-09-27 06:10:44 - Found 6 genes for L-arabinose.\n",
      "2019-09-27 06:10:44 - Found 9 genes for Sucrose_utilization.\n",
      "2019-09-27 06:10:44 - Found 17 genes for Ornithine_decarboxylase.\n",
      "2019-09-27 06:10:44 - Found 2 genes for Vogues_proskauer.\n",
      "2019-09-27 06:10:44 - Found 1 genes for D-galactose_fermetation.\n",
      "2019-09-27 06:10:44 - Found 0 genes for Celobiose_fermentation.\n",
      "2019-09-27 06:10:44 - Found 1 genes for D-mannitol.\n",
      "2019-09-27 06:10:44 - Found 0 genes for Arginine_dihydrolase.\n",
      "2019-09-27 06:10:44 - Found 0 genes for Thehalose_fermentation.\n",
      "2019-09-27 06:10:44 - Found 1 genes for D-sorbitol.\n",
      "2019-09-27 06:10:44 - Found 0 genes for Indole_production.\n",
      "2019-09-27 06:10:44 - Found 2 genes for M-inositol.\n",
      "2019-09-27 06:10:44 - Found 1 genes for D-mannose.\n"
     ]
    },
    {
     "data": {
      "text/plain": [
       "{'L-arabinose': ['NC_007604.1_69 arabinose.L-arabinose_transport_ATP-binding_protein_AraG.1',\n",
       "  'NC_007604.1_252 arabinose.L-arabinose_transport_ATP-binding_protein_AraG.1',\n",
       "  'NC_007604.1_839 arabinose.L-arabinose_transport_ATP-binding_protein_AraG.2',\n",
       "  'NC_007604.1_976 arabinose.L-arabinose_transport_ATP-binding_protein_AraG.2',\n",
       "  'NC_007604.1_1455 arabinose.L-arabinose_transport_ATP-binding_protein_AraG.2',\n",
       "  'NC_007604.1_2549 arabinose.L-arabinose_transport_ATP-binding_protein_AraG.2'],\n",
       " 'Sucrose_utilization': ['NC_007604.1_247 sucrose.maltodextrin_phosphorylase.7',\n",
       "  'NC_007604.1_506 sucrose.glucose-1-phosphate_adenylyltransferase2.3',\n",
       "  'NC_007604.1_614 sucrose.glucose-1-phosphate_adenylyltransferase.6',\n",
       "  'NC_007604.1_1001 sucrose.UDP-glucose_6-dehydrogenase.3',\n",
       "  'NC_007604.1_1051 sucrose.4-alpha-glucanotransferase.3',\n",
       "  'NC_007604.1_1117 sucrose.1_4-alpha-glucan_branching_enzyme.1',\n",
       "  'NC_007604.1_2019 sucrose.glucose-1-phosphate_adenylyltransferase2.6',\n",
       "  'NC_007604.1_2077 sucrose.glucose-6-phosphate_isomerase.1',\n",
       "  'NC_007604.1_2575 sucrose.glycogen_synthase.6'],\n",
       " 'Ornithine_decarboxylase': ['NC_007604.1_9 ornithine.argininosuccinate_synthase.1',\n",
       "  'NC_007604.1_18 ornithine.keto-hydroxyglutarate-aldolase.1',\n",
       "  'NC_007604.1_32 ornithine.argD_bifunctional_N-succinyldiaminopimelate-amino.1',\n",
       "  'NC_007604.1_496 ornithine.NAD-dependent_aldehyde_dehydrogenase.1',\n",
       "  'NC_007604.1_656 ornithine.argD_bifunctional_N-succinyldiaminopimelate-amino.1',\n",
       "  'NC_007604.1_971 ornithine.argD_bifunctional_N-succinyldiaminopimelate-amino.1',\n",
       "  'NC_007604.1_1069 ornithine.arginine_decarboxylase.1',\n",
       "  'NC_007604.1_1474 ornithine.argC_N-acetyl-gamma-glutamyl-phosphate_reductase.1',\n",
       "  'NC_007604.1_1536 ornithine.acetylglutamate_kinase.1',\n",
       "  'NC_007604.1_2106 ornithine.pyrroline-5-carboxylate_reductase.1',\n",
       "  'NC_007604.1_2208 ornithine.glnA_glutamine_synthetase.1',\n",
       "  'NC_007604.1_2249 ornithine.gamma-glutamyl_kinase.1',\n",
       "  'NC_007604.1_2294 ornithine.proA_gamma-glutamyl_phosphate_reductase.1',\n",
       "  'NC_007604.1_2319 ornithine.proA_gamma-glutamyl_phosphate_reductase.1',\n",
       "  'NC_007604.1_2351 ornithine.glnA_glutamine_synthetase.1',\n",
       "  'NC_007604.1_2532 ornithine.bifunctional_argininosuccinate_lyase.1',\n",
       "  'NC_007604.1_2571 ornithine.ornithine_carbamoyltransferase.1'],\n",
       " 'Vogues_proskauer': ['NC_007604.1_141 voges.Acetolactate_synthase_small_subunit.2',\n",
       "  'NC_007604.1_2490 voges.Acetolactate_synthase_small_subunit2.2'],\n",
       " 'D-galactose_fermetation': ['NC_007604.1_324 galactose.UDP-glucose_4-epimerase.1'],\n",
       " 'Celobiose_fermentation': [],\n",
       " 'D-mannitol': ['NC_007604.1_118 mannitol.scrK_Fructokinase.6'],\n",
       " 'Arginine_dihydrolase': [],\n",
       " 'Thehalose_fermentation': [],\n",
       " 'D-sorbitol': ['NC_007604.1_694 sorbitol.Sorbitol-6-phosphate_2-dehydrogenase.2'],\n",
       " 'Indole_production': [],\n",
       " 'M-inositol': ['NC_007604.1_1938 inositol.Inositol_transport_system_ATP-binding_protein.1',\n",
       "  'NC_007604.1_2640 inositol.Inositol-1-monophosphatase.1'],\n",
       " 'D-mannose': ['NC_007604.1_1653 mannose.mannose_1-phosphate_guanylyltransferase.1']}"
      ]
     },
     "execution_count": 15,
     "metadata": {},
     "output_type": "execute_result"
    }
   ],
   "source": [
    "g.run_pathways()\n",
    "g.pathways"
   ]
  },
  {
   "cell_type": "markdown",
   "metadata": {},
   "source": [
    "### Exporting and importing as JSON\n",
    "\n",
    "Well, now that we made several operations on our original genome file, we want to export our information and be able to retrieve it without running everything again. For that, we provide a JSON parser which exports our `Genome` object to a .json file, which can be easily imported again. It is also useful for communicating with APIs."
   ]
  },
  {
   "cell_type": "code",
   "execution_count": 16,
   "metadata": {},
   "outputs": [
    {
     "name": "stderr",
     "output_type": "stream",
     "text": [
      "2019-09-27 06:10:44 - Wrote json file of GCF_000012525.1_ASM1252v1_genomic to /Users/viniWS/Bio/abacat/abacat/data/genomes/GCF_000012525.1_ASM1252v1_genomic.json.\n"
     ]
    }
   ],
   "source": [
    "g.to_json()"
   ]
  },
  {
   "cell_type": "markdown",
   "metadata": {},
   "source": [
    "Let's delete our object and import it again to see what happens. To import it, we will need the `from_json()` function:"
   ]
  },
  {
   "cell_type": "code",
   "execution_count": 17,
   "metadata": {},
   "outputs": [],
   "source": [
    "from abacat import from_json"
   ]
  },
  {
   "cell_type": "code",
   "execution_count": 18,
   "metadata": {},
   "outputs": [
    {
     "name": "stderr",
     "output_type": "stream",
     "text": [
      "2019-09-27 06:10:44 - Loading genome from /Users/viniWS/Bio/abacat/abacat/data/genomes/GCF_000012525.1_ASM1252v1_genomic.json.\n",
      "2019-09-27 06:10:44 - Loaded files to GCF_000012525.1_ASM1252v1_genomic.\n",
      "2019-09-27 06:10:44 - Loaded seqstats to GCF_000012525.1_ASM1252v1_genomic.\n",
      "2019-09-27 06:10:44 - Loaded pathways to GCF_000012525.1_ASM1252v1_genomic.\n",
      "2019-09-27 06:10:44 - Loaded gene set from Prodigal data. It has 2725 genes.\n",
      "2019-09-27 06:10:44 - Loaded protein set from Prodigal data.\n"
     ]
    }
   ],
   "source": [
    "del g\n",
    "g = from_json(\"/Users/viniWS/Bio/abacat/abacat/data/genomes/GCF_000012525.1_ASM1252v1_genomic.json\")"
   ]
  },
  {
   "cell_type": "markdown",
   "metadata": {},
   "source": [
    "All of our information is loaded again!\n",
    "\n",
    "This wraps up our tutorial. Let's review our steps.\n",
    "\n",
    "1. Loading the contigs .fasta file with the `Genome` class.\n",
    "2. Predicting CDSs using Prodigal.\n",
    "3. Annotating with both the MEGARes and the Phenotyping database.\n",
    "4. Exporting and importing back again with the `to_json()` and `from_json()` methods."
   ]
  }
 ],
 "metadata": {
  "kernelspec": {
   "display_name": "Python 3",
   "language": "python",
   "name": "python3"
  },
  "language_info": {
   "codemirror_mode": {
    "name": "ipython",
    "version": 3
   },
   "file_extension": ".py",
   "mimetype": "text/x-python",
   "name": "python",
   "nbconvert_exporter": "python",
   "pygments_lexer": "ipython3",
   "version": "3.7.3"
  }
 },
 "nbformat": 4,
 "nbformat_minor": 2
}
